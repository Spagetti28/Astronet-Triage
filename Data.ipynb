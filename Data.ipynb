{
 "cells": [
  {
   "cell_type": "code",
   "execution_count": null,
   "metadata": {},
   "outputs": [],
   "source": [
    "import os\n",
    "import tensorflow as tf\n",
    "\n",
    "tces_file = 'astronet/tces-new+old.csv'\n",
    "file_pattern = '/mnt/tess/astronet/tfrecords-11/*-*'\n",
    "filenames = tf.io.gfile.glob(file_pattern)\n",
    "    \n",
    "filenames"
   ]
  },
  {
   "cell_type": "code",
   "execution_count": null,
   "metadata": {},
   "outputs": [],
   "source": [
    "import pandas as pd\n",
    "\n",
    "tce_table = pd.read_csv(tces_file, header=0)\n",
    "tce_table = tce_table.drop(columns=['Disposition'])\n",
    "tce_table.head(3)"
   ]
  },
  {
   "cell_type": "code",
   "execution_count": null,
   "metadata": {},
   "outputs": [],
   "source": [
    "import numpy as np\n",
    "\n",
    "print(np.unique(tce_table[\"flag_av\"].fillna(''), return_counts=True))\n",
    "print(np.unique(tce_table[\"flag_ch\"].fillna(''), return_counts=True))\n",
    "print(np.unique(tce_table[\"flag_yl\"].fillna(''), return_counts=True))"
   ]
  },
  {
   "cell_type": "code",
   "execution_count": null,
   "metadata": {},
   "outputs": [],
   "source": [
    "f = (tce_table[\"flag_yl\"] != tce_table[\"flag_ch\"]) & (~tce_table[\"flag_yl\"].isna()) & (~tce_table[\"flag_ch\"].isna())\n",
    "tce_table[f]"
   ]
  },
  {
   "cell_type": "code",
   "execution_count": null,
   "metadata": {},
   "outputs": [],
   "source": [
    "series = {}\n",
    "\n",
    "for filename in filenames:\n",
    "  tfr = tf.data.TFRecordDataset(filename)\n",
    "  num_records = 0\n",
    "  for record in tfr:\n",
    "    num_records += 1\n",
    "    ex = tf.train.Example.FromString(record.numpy())\n",
    "    for k in ex.features.feature.keys():\n",
    "      if k in ('global_view', 'local_view', 'secondary_view', 'toi_id'):\n",
    "        continue\n",
    "      f = ex.features.feature[k]\n",
    "      if f.int64_list.value:\n",
    "        v = f.int64_list.value[0]\n",
    "      elif f.float_list.value:\n",
    "        v = f.float_list.value[0]\n",
    "      elif f.bytes_list.value:\n",
    "        v = f.bytes_list.value[0].decode()\n",
    "      else:\n",
    "        continue\n",
    "\n",
    "      if k not in series:\n",
    "        series[k] = []\n",
    "      series[k].append(v)\n",
    "  print(filename, num_records)"
   ]
  },
  {
   "cell_type": "code",
   "execution_count": null,
   "metadata": {},
   "outputs": [],
   "source": [
    "import pandas as pd\n",
    "\n",
    "examples_table = pd.DataFrame.from_dict(series)\n",
    "\n",
    "pd.set_option('display.max_columns', None)\n",
    "examples_table.describe()"
   ]
  },
  {
   "cell_type": "code",
   "execution_count": null,
   "metadata": {},
   "outputs": [],
   "source": [
    "from matplotlib import pyplot as plt\n",
    "\n",
    "labels = ['E', 'N', 'J', 'S', 'B']\n",
    "counts = [sum(examples_table['disp_{}'.format(l)] > 0) for l in labels]\n",
    "ax = plt.bar(labels, counts)\n",
    "for i in range(len(labels)):\n",
    "    b = ax[i]\n",
    "    height = b.get_height()\n",
    "    x, y = b.get_xy()\n",
    "    plt.annotate(\n",
    "        '{:.0%}'.format(counts[i] / sum(counts)),\n",
    "        (x + 0.1, y + height + 100))"
   ]
  },
  {
   "cell_type": "code",
   "execution_count": null,
   "metadata": {},
   "outputs": [],
   "source": [
    "examples_table.describe()"
   ]
  },
  {
   "cell_type": "code",
   "execution_count": null,
   "metadata": {},
   "outputs": [],
   "source": [
    "examples_table.head(5)"
   ]
  },
  {
   "cell_type": "code",
   "execution_count": null,
   "metadata": {},
   "outputs": [],
   "source": [
    "print(np.unique(examples_table[\"flag_av\"].fillna(''), return_counts=True))\n",
    "print(np.unique(examples_table[\"flag_ch\"].fillna(''), return_counts=True))\n",
    "print(np.unique(examples_table[\"flag_yl\"].fillna(''), return_counts=True))"
   ]
  },
  {
   "cell_type": "code",
   "execution_count": null,
   "metadata": {},
   "outputs": [],
   "source": [
    "np.array(set(tce_table[tce_table['disp_E'] > 0]['tic_id'].values)\n",
    "    - set(examples_table[examples_table['disp_E'] > 0]['tic_id'].values))"
   ]
  },
  {
   "cell_type": "code",
   "execution_count": null,
   "metadata": {
    "scrolled": true
   },
   "outputs": [],
   "source": [
    "from matplotlib import pyplot as plt\n",
    "import pandas as pd\n",
    "import numpy as np\n",
    "\n",
    "from astronet.data import preprocess\n",
    "\n",
    "\n",
    "tess_data_dir = '/mnt/tess/lc'\n",
    "\n",
    "def find_tce(tic_id, sector):\n",
    "  with tf.device('cpu'):\n",
    "    for filename in filenames:\n",
    "      tfr = tf.data.TFRecordDataset(filename)\n",
    "      for record in tfr:\n",
    "        ex = tf.train.Example.FromString(record.numpy())\n",
    "        if ((ex.features.feature[\"tic_id\"].int64_list.value[0] == tic_id)\n",
    "            and (ex.features.feature[\"Sectors\"].int64_list.value[0] == sector)):\n",
    "          print('TIC ID:', tic_id)\n",
    "          print('E:', ex.features.feature[\"disp_E\"].int64_list.value[0])\n",
    "          print('N:', ex.features.feature[\"disp_N\"].int64_list.value[0])\n",
    "          print('J:', ex.features.feature[\"disp_J\"].int64_list.value[0])\n",
    "          print('S:', ex.features.feature[\"disp_S\"].int64_list.value[0])\n",
    "          print('Duration:', ex.features.feature[\"Duration\"].float_list.value[0])\n",
    "          return ex\n",
    "\n",
    "    raise ValueError(\"{} not found in files: {}\".format(tic_id, filenames))\n",
    "\n",
    "\n",
    "def plot_tce(ex, label=''):\n",
    "    global_view = np.array(ex.features.feature[\"global_view\"].float_list.value)\n",
    "    local_view = np.array(ex.features.feature[\"local_view\"].float_list.value)\n",
    "    secondary_view = np.array(ex.features.feature[\"secondary_view\"].float_list.value)\n",
    "    fig, axes = plt.subplots(1, 3, figsize=(20, 6), dpi=300)\n",
    "    axes[0].plot(global_view, \".\")\n",
    "    axes[1].plot(local_view, \".\", label=label)\n",
    "    axes[2].plot(secondary_view, \".\", label=label)\n",
    "    plt.show()\n",
    "    plt.close('all')\n",
    "\n",
    "\n",
    "def plot_raw_lc(tic_id):\n",
    "    time, flux = preprocess.read_and_process_light_curve(tic_id, tess_data_dir)\n",
    "    fig = plt.figure(figsize=(15, 4), dpi=300)\n",
    "    plt.plot(time, flux, '.', markersize=3)\n",
    "    plt.show()\n",
    "    time, flux = preprocess.read_and_process_light_curve(tic_id, tess_data_dir, 'SAP_FLUX')\n",
    "    fig = plt.figure(figsize=(15, 4), dpi=300)\n",
    "    plt.plot(time, flux, '.', markersize=3)\n",
    "    plt.show()\n",
    "    plt.close('all')\n"
   ]
  },
  {
   "cell_type": "code",
   "execution_count": null,
   "metadata": {},
   "outputs": [],
   "source": [
    "import tensorflow as tf\n",
    "\n",
    "from astronet import models\n",
    "from astronet.ops import dataset_ops\n",
    "\n",
    "config = models.get_model_config('AstroCNNModel', 'local_global_new')\n",
    "\n",
    "ds = dataset_ops.build_dataset(\n",
    "      file_pattern=file_pattern,\n",
    "      input_config=config.inputs,\n",
    "      batch_size=1,\n",
    "      include_labels=False,\n",
    "      reverse_time_series_prob=0,\n",
    "      shuffle_filenames=True,\n",
    "      shuffle_values_buffer=1000,\n",
    "      repeat=1,\n",
    "      use_tpu=False,\n",
    "      one_hot_labels=(config.hparams.output_dim > 1),\n",
    "      include_identifiers=True)\n",
    "\n",
    "all_tics = []\n",
    "for d in ds:\n",
    "  def lam(e):\n",
    "    if e.dtype == tf.int64:\n",
    "        return e\n",
    "    if tf.reduce_any(tf.math.is_nan(e)):\n",
    "        tf.print(e, summarize=-1)\n",
    "        raise ValueError('data has NaNs.')\n",
    "    return e\n",
    "  tic_id = d[1]['tic_id'].numpy().item()\n",
    "  all_tics.append(tic_id)\n",
    "  try:\n",
    "    tf.nest.map_structure(lam, d)\n",
    "  except ValueError as e:\n",
    "    print(e)\n",
    "    print(d[1])\n",
    "    break\n",
    "else:\n",
    "  print('No NaNs found.')\n",
    "\n",
    "if len(all_tics) == len(set(all_tics)):\n",
    "  print('No duplicates found.')\n",
    "else:\n",
    "  print('Found duplicates!', len(all_tics) - len(set(all_tics)))"
   ]
  },
  {
   "cell_type": "code",
   "execution_count": null,
   "metadata": {},
   "outputs": [],
   "source": [
    "ds = ds.cache()\n",
    "def plot_ds_tce(ds, tic_id):\n",
    "    for d in ds:\n",
    "        if d[1]['tic_id'] == tic_id:\n",
    "            for k, v in d[0].items():\n",
    "                if k not in ['local_view', 'global_view', 'secondary_view']:\n",
    "                    print(f'{k:25}: {v.numpy().item()}')\n",
    "            global_view = np.array(d[0]['global_view'][0].numpy())\n",
    "            local_view = np.array(d[0]['local_view'][0].numpy())\n",
    "            secondary_view = np.array(d[0]['secondary_view'][0].numpy())\n",
    "            fig, axes = plt.subplots(1, 3, figsize=(20, 6))\n",
    "            axes[0].plot(global_view, '.-')\n",
    "            axes[1].plot(local_view, '.-')\n",
    "            axes[2].plot(secondary_view, '.-')\n",
    "            plt.show()\n",
    "            plt.close('all')\n",
    "            return"
   ]
  },
  {
   "cell_type": "code",
   "execution_count": null,
   "metadata": {},
   "outputs": [],
   "source": [
    "tic_id = 424985843\n",
    "plot_ds_tce(ds, tic_id)\n",
    "plot_raw_lc(tic_id)\n",
    "tce_table[tce_table['tic_id'] == tic_id]"
   ]
  },
  {
   "cell_type": "code",
   "execution_count": null,
   "metadata": {},
   "outputs": [],
   "source": []
  }
 ],
 "metadata": {
  "kernelspec": {
   "display_name": "Python 3",
   "language": "python",
   "name": "python3"
  },
  "language_info": {
   "codemirror_mode": {
    "name": "ipython",
    "version": 3
   },
   "file_extension": ".py",
   "mimetype": "text/x-python",
   "name": "python",
   "nbconvert_exporter": "python",
   "pygments_lexer": "ipython3",
   "version": "3.7.6"
  }
 },
 "nbformat": 4,
 "nbformat_minor": 4
}
