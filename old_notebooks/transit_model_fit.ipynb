{
 "cells": [
  {
   "cell_type": "code",
   "execution_count": 1,
   "metadata": {},
   "outputs": [],
   "source": [
    "import numpy as np\n",
    "import batman\n",
    "\n",
    "from lmfit import Parameters, minimize"
   ]
  },
  {
   "cell_type": "code",
   "execution_count": 2,
   "metadata": {},
   "outputs": [],
   "source": [
    "def transit_model(x, epo, per, rprs, ars, b, u1, u2):\n",
    "    '''\n",
    "    Calculates transit model using batman\n",
    "    INPUT:\n",
    "        x - array of times to calculate model on (days)\n",
    "        epo - epoch (days)\n",
    "        per - orbital period (days)\n",
    "        rprs - planet radius divided by stellar radius\n",
    "        ars - distance from planet to star divided by stellar radius\n",
    "        b - impact parameter\n",
    "        u1 - first quadratic limb darkening parameter\n",
    "        u2 - second quadratic limb darkening parameter\n",
    "    OUTPUT: array of model fluxes\n",
    "    '''\n",
    "    bparams = batman.TransitParams()\n",
    "    bparams.t0 = epo\n",
    "    bparams.per = per\n",
    "    bparams.rp = rprs\n",
    "    bparams.a = ars\n",
    "    bparams.inc = np.arccos(b/ars)*180./np.pi\n",
    "    bparams.ecc = 0.\n",
    "    bparams.w = 90.\n",
    "    bparams.u = [u1, u2]\n",
    "    bparams.limb_dark = \"quadratic\"\n",
    "    m = batman.TransitModel(bparams, x)\n",
    "    model = m.light_curve(bparams)\n",
    "    return model\n",
    "\n",
    "def residual(params, x, y, yerr):\n",
    "    '''\n",
    "    Calculates residual between observations and model\n",
    "    INPUT:\n",
    "        params - collection of lmfit parameters\n",
    "        x - array of times (days)\n",
    "        y - array of observed fluxes\n",
    "        yerr - array of uncertainties in observed fluxes\n",
    "    OUTPUT: difference between observed flux and modeled flux\n",
    "    '''\n",
    "    epo = params['epo']\n",
    "    per = params['per']\n",
    "    rprs = params['rprs']\n",
    "    b = params['b']\n",
    "    ars = params['ars']\n",
    "    u1 = params['u1']\n",
    "    u2 = params['u2']\n",
    "    model = transit_model(x, epo, per, rprs, ars, b, u1, u2)\n",
    "    return np.sqrt((y - model)**2./yerr**2)\n",
    "\n",
    "def fit_transit_model(x, y, yerr, epo, per, rprs, dur, u1, u2, cap_b=True, fit_u=False):\n",
    "    '''\n",
    "    Fits transit model to data\n",
    "    INPUT:\n",
    "        x - array of times (days)\n",
    "        y - array of observed fluxes\n",
    "        epo - epoch (days)\n",
    "        per - orbital period (days)\n",
    "        rprs - planet radius divided by stellar radius\n",
    "        dur - transit duration (days)\n",
    "        u1 - first quadratic limb darkening parameter\n",
    "        u2 - second quadratic limb darkening parameter\n",
    "        cap_b - True if you want impact parameter within [0, 1];\n",
    "                False if you want impact parameter within [0, 1 + rprs]\n",
    "        fit_u - True if you want to fit limb darkening parameters; False if not\n",
    "    OUTPUT: lmfit best-fit results\n",
    "    '''    \n",
    "    best_chisqr = np.inf\n",
    "    # Due to degeneracies in fit parameters, try initial fits with b fixed\n",
    "    for b in [0.1, 0.3, 0.5, 0.7, 0.9]:\n",
    "        # Estimate ars from transit duration and impact parameter\n",
    "        nom = (1. + rprs)**2. - b**2. * (1. - np.sin(dur*np.pi/per)**2.)\n",
    "        denom = np.sin(dur*np.pi/per)**2.\n",
    "        ars = np.sqrt(nom/denom)\n",
    "        params = Parameters()\n",
    "        params.add('per', value=per, min=0)\n",
    "        params.add('epo', value=epo, min=0)\n",
    "        if cap_b:\n",
    "            params.add('b', value=b, min=0, max=1, vary=False)\n",
    "            params.add('rprs', value=rprs, min=0, max=1)\n",
    "        else:\n",
    "            params.add('b', value=b, min=0, vary=False)\n",
    "            params.add('delta', value=b-rprs, max=1)\n",
    "            params.add('rprs', expr='b - delta')\n",
    "        params.add('ars', value=ars, min=0)\n",
    "        if fit_u:\n",
    "            params.add('u1', value=u1)\n",
    "            params.add('u2', value=u2)\n",
    "        else:\n",
    "            params.add('u1', value=u1, vary=False)\n",
    "            params.add('u2', value=u2, vary=False)            \n",
    "        out = minimize(residual, params, args=(x, y, yerr))\n",
    "        chisqr = out.chisqr\n",
    "        if chisqr < best_chisqr:\n",
    "            best_b = b\n",
    "            best_out = out\n",
    "            best_chisqr = chisqr\n",
    "    # Now do a full fit, allowing b to vary\n",
    "    best_out.params['b'].vary = True\n",
    "    final_out = minimize(residual, best_out.params, args=(x, y, yerr))\n",
    "    return final_out"
   ]
  },
  {
   "cell_type": "code",
   "execution_count": 3,
   "metadata": {},
   "outputs": [],
   "source": [
    "import lightkurve as lk\n",
    "import matplotlib.pyplot as plt\n",
    "\n",
    "lcfs = lk.search_lightcurve(\"TIC 158588995\", mission=\"TESS\", author=\"QLP\").download_all()\n",
    "lc = lcfs.stitch()\n",
    "\n",
    "time = lc['time'].value\n",
    "qflag = lc['quality'].value\n",
    "flux = lc['kspsap_flux'].value\n",
    "\n",
    "good = (qflag == 0) & ~np.isnan(flux)\n",
    "\n",
    "time = time[good]\n",
    "flux = flux[good]\n",
    "\n",
    "mad = np.nanmedian(np.abs(flux - np.nanmedian(flux)))\n",
    "flux_err = 1.48*mad*np.ones(len(flux))"
   ]
  },
  {
   "cell_type": "code",
   "execution_count": 4,
   "metadata": {},
   "outputs": [
    {
     "data": {
      "text/plain": [
       "Text(0, 0.5, 'Normalized Flux')"
      ]
     },
     "execution_count": 4,
     "metadata": {},
     "output_type": "execute_result"
    },
    {
     "data": {
      "image/png": "[encoded data removed]",
      "text/plain": [
       "<Figure size 432x288 with 1 Axes>"
      ]
     },
     "metadata": {
      "needs_background": "light"
     },
     "output_type": "display_data"
    }
   ],
   "source": [
    "plt.plot(time, flux, \"k.\")\n",
    "plt.xlabel(\"Time (BJD - 2457000)\")\n",
    "plt.ylabel(\"Normalized Flux\")"
   ]
  },
  {
   "cell_type": "code",
   "execution_count": 5,
   "metadata": {},
   "outputs": [],
   "source": [
    "# Get initial model guesses from BLS\n",
    "guess_epo = 1641.404552\n",
    "guess_per = 1.977143\n",
    "guess_dep = 0.0144563\n",
    "guess_dur_hrs = 1.0553\n",
    "\n",
    "guess_dur = guess_dur_hrs/24.\n",
    "guess_rprs = np.sqrt(guess_dep)\n",
    "\n",
    "# Limb-darkening from Claret (2017)\n",
    "guess_u1 = 0.1555\n",
    "guess_u2 = 0.4459"
   ]
  },
  {
   "cell_type": "code",
   "execution_count": 6,
   "metadata": {},
   "outputs": [],
   "source": [
    "# Fit transit model\n",
    "\n",
    "# OPTIONAL: only fit data within 2 transit duration (speeds up fit):\n",
    "phase = (time - guess_epo) % guess_per\n",
    "phase[phase > 0.5*guess_per] -= guess_per\n",
    "near_transit = (abs(phase) < 2.*guess_dur)\n",
    "\n",
    "x = time[near_transit]\n",
    "y = flux[near_transit]\n",
    "yerr = flux_err[near_transit]"
   ]
  },
  {
   "cell_type": "code",
   "execution_count": 7,
   "metadata": {},
   "outputs": [
    {
     "data": {
      "text/html": [
       "<h2>Fit Statistics</h2><table><tr><td>fitting method</td><td>leastsq</td><td></td></tr><tr><td># function evals</td><td>114</td><td></td></tr><tr><td># data points</td><td>166</td><td></td></tr><tr><td># variables</td><td>5</td><td></td></tr><tr><td>chi-square</td><td> 185.707913</td><td></td></tr><tr><td>reduced chi-square</td><td> 1.15346530</td><td></td></tr><tr><td>Akaike info crit.</td><td> 28.6230901</td><td></td></tr><tr><td>Bayesian info crit.</td><td> 44.1830290</td><td></td></tr></table><h2>Variables</h2><table><tr><th> name </th><th> value </th><th> standard error </th><th> relative error </th><th> initial value </th><th> min </th><th> max </th><th> vary </th></tr><tr><td> per </td><td>  1.97717616 </td><td>  3.6010e-05 </td><td> (0.00%) </td><td> 1.9771744380230802 </td><td>  0.00000000 </td><td>         inf </td><td> True </td></tr><tr><td> epo </td><td>  1641.40575 </td><td>  0.00133881 </td><td> (0.00%) </td><td> 1641.4055601127118 </td><td>  0.00000000 </td><td>         inf </td><td> True </td></tr><tr><td> b </td><td>  0.99999999 </td><td>  0.20321380 </td><td> (20.32%) </td><td> 0.9 </td><td>  0.00000000 </td><td>  1.00000000 </td><td> True </td></tr><tr><td> rprs </td><td>  0.16461039 </td><td>  0.14366023 </td><td> (87.27%) </td><td> 0.1096783037143404 </td><td>  0.00000000 </td><td>  1.00000000 </td><td> True </td></tr><tr><td> ars </td><td>  6.21832487 </td><td>  0.74918675 </td><td> (12.05%) </td><td> 6.9938944820133715 </td><td>  0.00000000 </td><td>         inf </td><td> True </td></tr><tr><td> u1 </td><td>  0.15550000 </td><td>  0.00000000 </td><td> (0.00%) </td><td> 0.1555 </td><td>        -inf </td><td>         inf </td><td> False </td></tr><tr><td> u2 </td><td>  0.44590000 </td><td>  0.00000000 </td><td> (0.00%) </td><td> 0.4459 </td><td>        -inf </td><td>         inf </td><td> False </td></tr></table><h2>Correlations (unreported correlations are < 0.100)</h2><table><tr><td>b</td><td>rprs</td><td>1.0000</td></tr><tr><td>b</td><td>ars</td><td>-0.9882</td></tr><tr><td>rprs</td><td>ars</td><td>-0.9872</td></tr><tr><td>per</td><td>epo</td><td>0.9772</td></tr><tr><td>epo</td><td>ars</td><td>-0.1382</td></tr><tr><td>epo</td><td>b</td><td>0.1275</td></tr><tr><td>epo</td><td>rprs</td><td>0.1272</td></tr></table>"
      ],
      "text/plain": [
       "<lmfit.minimizer.MinimizerResult at 0x13cb0f7c0>"
      ]
     },
     "execution_count": 7,
     "metadata": {},
     "output_type": "execute_result"
    }
   ],
   "source": [
    "# Fit transit model. The default is to force b to vary between [0,1], and to not fit limb darkening parameters\n",
    "best_fit = fit_transit_model(x, y, yerr, guess_epo, guess_per, guess_rprs, guess_dur, guess_u1, guess_u2)\n",
    "\n",
    "best_fit"
   ]
  },
  {
   "cell_type": "code",
   "execution_count": 8,
   "metadata": {},
   "outputs": [
    {
     "data": {
      "text/plain": [
       "Text(0, 0.5, 'Relative flux')"
      ]
     },
     "execution_count": 8,
     "metadata": {},
     "output_type": "execute_result"
    },
    {
     "data": {
      "image/png": "[encoded data removed]",
      "text/plain": [
       "<Figure size 432x288 with 1 Axes>"
      ]
     },
     "metadata": {
      "needs_background": "light"
     },
     "output_type": "display_data"
    }
   ],
   "source": [
    "# Plot best-fit result\n",
    "\n",
    "best_epo = best_fit.params[\"epo\"]\n",
    "best_per = best_fit.params[\"per\"]\n",
    "best_rprs = best_fit.params[\"rprs\"]\n",
    "best_ars = best_fit.params[\"ars\"]\n",
    "best_b = best_fit.params[\"b\"]\n",
    "best_u1 = best_fit.params[\"u1\"]\n",
    "best_u2 = best_fit.params[\"u2\"]\n",
    "\n",
    "phase = (x - best_epo) % best_per\n",
    "phase[phase > 0.5*best_per] -= best_per\n",
    "idx_sort = np.argsort(phase)\n",
    "\n",
    "model = transit_model(x, best_epo, best_per, best_rprs, best_ars, best_b, best_u1, best_u2)\n",
    "\n",
    "plt.plot(phase, y, \"k.\")\n",
    "plt.plot(phase[idx_sort], model[idx_sort], \"r\")\n",
    "plt.xlabel(\"Time from centre of transit (days)\")\n",
    "plt.ylabel(\"Relative flux\")"
   ]
  }
 ],
 "metadata": {
  "kernelspec": {
   "display_name": "Python 3",
   "language": "python",
   "name": "python3"
  },
  "language_info": {
   "codemirror_mode": {
    "name": "ipython",
    "version": 3
   },
   "file_extension": ".py",
   "mimetype": "text/x-python",
   "name": "python",
   "nbconvert_exporter": "python",
   "pygments_lexer": "ipython3",
   "version": "3.7.6"
  }
 },
 "nbformat": 4,
 "nbformat_minor": 5
}
