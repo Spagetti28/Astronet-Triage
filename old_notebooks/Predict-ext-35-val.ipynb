{
 "cells": [
  {
   "cell_type": "markdown",
   "metadata": {},
   "source": [
    "Notes:\n",
    " * revised and tuned configuration, updated views\n",
    " * training on full dataset (including Y3, new light curves, fixes)\n",
    " * trained with updated star radius estimations, multiple duplicates removed\n",
    " * removed instar examples"
   ]
  },
  {
   "cell_type": "code",
   "execution_count": 1,
   "metadata": {},
   "outputs": [
    {
     "data": {
      "text/plain": [
       "['/mnt/tess/astronet/checkpoints/ext_35_run_1/1/AstroCNNModel_extended_20220328_165807',\n",
       " '/mnt/tess/astronet/checkpoints/ext_35_run_1/2/AstroCNNModel_extended_20220328_173327',\n",
       " '/mnt/tess/astronet/checkpoints/ext_35_run_1/3/AstroCNNModel_extended_20220328_180751',\n",
       " '/mnt/tess/astronet/checkpoints/ext_35_run_1/4/AstroCNNModel_extended_20220328_184213',\n",
       " '/mnt/tess/astronet/checkpoints/ext_35_run_1/5/AstroCNNModel_extended_20220328_191617',\n",
       " '/mnt/tess/astronet/checkpoints/ext_35_run_1/6/AstroCNNModel_extended_20220328_194914',\n",
       " '/mnt/tess/astronet/checkpoints/ext_35_run_1/7/AstroCNNModel_extended_20220328_202225',\n",
       " '/mnt/tess/astronet/checkpoints/ext_35_run_1/8/AstroCNNModel_extended_20220328_205525',\n",
       " '/mnt/tess/astronet/checkpoints/ext_35_run_1/9/AstroCNNModel_extended_20220328_212823',\n",
       " '/mnt/tess/astronet/checkpoints/ext_35_run_1/10/AstroCNNModel_extended_20220328_220115']"
      ]
     },
     "execution_count": 1,
     "metadata": {},
     "output_type": "execute_result"
    }
   ],
   "source": [
    "import os\n",
    "\n",
    "chkpt_root = '/mnt/tess/astronet/checkpoints/ext_35_run_1'\n",
    "data_files = '/mnt/tess/astronet/tfrecords-35-val/*'\n",
    "tces_file = '/mnt/tess/astronet/tces-v12-val.csv'\n",
    "\n",
    "nruns = 10\n",
    "\n",
    "def load_ensemble(chkpt_root, nruns):\n",
    "    checkpts = []\n",
    "    for i in range(nruns):\n",
    "        parent = os.path.join(chkpt_root, str(i + 1))\n",
    "        if not os.path.exists(parent):\n",
    "            break\n",
    "        all_dirs = os.listdir(parent)\n",
    "        if not all_dirs:\n",
    "            break\n",
    "        d, = all_dirs\n",
    "        checkpts.append(os.path.join(parent, d))\n",
    "    return checkpts\n",
    "\n",
    "paths = load_ensemble(chkpt_root, nruns)\n",
    "paths"
   ]
  },
  {
   "cell_type": "code",
   "execution_count": 2,
   "metadata": {
    "scrolled": false
   },
   "outputs": [
    {
     "name": "stdout",
     "output_type": "stream",
     "text": [
      "Running model 1\n",
      "2461 records\n",
      "Running model 2\n",
      "2461 records\n",
      "Running model 3\n",
      "2461 records\n",
      "Running model 4\n",
      "2461 records\n",
      "Running model 5\n",
      "2461 records\n",
      "Running model 6\n",
      "2461 records\n",
      "Running model 7\n",
      "2461 records\n",
      "Running model 8\n",
      "2461 records\n",
      "Running model 9\n",
      "2461 records\n",
      "Running model 10\n",
      "2461 records\n"
     ]
    }
   ],
   "source": [
    "import getpass\n",
    "import os\n",
    "from astronet import predict\n",
    "import tensorflow as tf\n",
    "\n",
    "\n",
    "def run_predictions(path):\n",
    "    predict.FLAGS = predict.parser.parse_args([\n",
    "      '--model_dir', path,\n",
    "      '--data_files', data_files,\n",
    "      '--output_file', '',\n",
    "    ])\n",
    "\n",
    "    return predict.predict()\n",
    "\n",
    "\n",
    "paths = load_ensemble(chkpt_root, nruns)\n",
    "ensemble_preds = []\n",
    "config = None\n",
    "for i, path in enumerate(paths):\n",
    "    print(f'Running model {i + 1}')\n",
    "    preds, config = run_predictions(path)\n",
    "    ensemble_preds.append(preds.set_index('tic_id'))\n",
    "    print()"
   ]
  },
  {
   "cell_type": "code",
   "execution_count": 3,
   "metadata": {},
   "outputs": [],
   "source": [
    "labels = ['disp_e', 'disp_n', 'disp_j', 'disp_s', 'disp_b']\n",
    "\n",
    "col_e = labels.index('disp_e')\n",
    "thresh = 0.2"
   ]
  },
  {
   "cell_type": "code",
   "execution_count": 4,
   "metadata": {
    "scrolled": false
   },
   "outputs": [],
   "source": [
    "import numpy as np\n",
    "import pandas as pd\n",
    "\n",
    "agg_preds = {}\n",
    "\n",
    "for preds in ensemble_preds:\n",
    "    for tic_id in preds.index:\n",
    "        if tic_id not in agg_preds:\n",
    "            agg_preds[tic_id] = []\n",
    "\n",
    "        row = preds[preds.index == tic_id]\n",
    "        pred_v = row.values[0]\n",
    "        if len(row.values) > 1:\n",
    "            print(f'Warning: duplicate predictions for {tic_id}')\n",
    "        if pred_v[col_e] >= thresh:\n",
    "            agg_preds[tic_id].append('disp_e')\n",
    "        else:\n",
    "            masked_v = [v if i != col_e else 0 for i, v in enumerate(pred_v)]\n",
    "            agg_preds[tic_id].append(preds.columns[np.argmax(masked_v)])"
   ]
  },
  {
   "cell_type": "code",
   "execution_count": 5,
   "metadata": {},
   "outputs": [],
   "source": [
    "final_preds = []\n",
    "for tic_id in list(agg_preds.keys()):\n",
    "    counts = {l: 0 for l in labels}\n",
    "    for e in agg_preds[tic_id]:\n",
    "        counts[e] += 1\n",
    "    maxcount = max(counts.values())\n",
    "    counts.update({\n",
    "        'tic_id': tic_id,\n",
    "        'maxcount': maxcount,\n",
    "    })\n",
    "    final_preds.append(counts)\n",
    "    \n",
    "final_preds = pd.DataFrame(final_preds).set_index('tic_id')"
   ]
  },
  {
   "cell_type": "code",
   "execution_count": 6,
   "metadata": {},
   "outputs": [],
   "source": [
    "tce_table = pd.read_csv(tces_file, header=0).set_index('tic_id')\n",
    "for l in labels:\n",
    "    tce_table[l] = tce_table[l[:-1] + l[-1].upper()]\n",
    "tce_labels = tce_table[labels]\n",
    "\n",
    "pl = final_preds.join(tce_labels, on='tic_id', how='left', lsuffix='_p')\n",
    "\n",
    "pl.head()\n",
    "pd.set_option('display.max_columns', None)"
   ]
  },
  {
   "cell_type": "code",
   "execution_count": 7,
   "metadata": {},
   "outputs": [
    {
     "name": "stdout",
     "output_type": "stream",
     "text": [
      "Recall: 0.9615384615384616\n",
      "Precision: 0.7621951219512195\n"
     ]
    }
   ],
   "source": [
    "ppos = (pl['disp_e_p'] > 0)\n",
    "pos = (pl['disp_e'] > 0)\n",
    "\n",
    "pneg = (pl['disp_e_p'] == 0)\n",
    "neg = (pl['disp_e'] == 0)\n",
    "\n",
    "print('Recall:', len(pl[ppos & pos]) / len(pl[pos]))\n",
    "print('Precision:', len(pl[ppos & pos]) / len(pl[ppos]))"
   ]
  },
  {
   "cell_type": "code",
   "execution_count": 8,
   "metadata": {},
   "outputs": [
    {
     "name": "stdout",
     "output_type": "stream",
     "text": [
      "369264198\n",
      "28484801\n",
      "1715064237\n",
      "198356533\n",
      "199661915\n",
      "141753278\n",
      "158159741\n",
      "349412074\n",
      "404220255\n",
      "393324927\n"
     ]
    }
   ],
   "source": [
    "for i in pl[pos & pneg][[]].join(tce_table, on='tic_id', how='left').index:\n",
    "    print(i)"
   ]
  },
  {
   "cell_type": "code",
   "execution_count": 9,
   "metadata": {
    "scrolled": true
   },
   "outputs": [
    {
     "name": "stdout",
     "output_type": "stream",
     "text": [
      "356776209\n",
      "416282321\n",
      "136651206\n",
      "277848886\n",
      "278555119\n",
      "278910035\n",
      "395164445\n",
      "417208086\n",
      "252588526\n",
      "431338538\n",
      "192591652\n",
      "312060273\n",
      "450006142\n",
      "127846210\n",
      "261814771\n",
      "269291226\n",
      "280806973\n",
      "408945155\n",
      "648359612\n",
      "82242456\n",
      "142751024\n",
      "158436739\n",
      "56861756\n",
      "30318046\n",
      "101496204\n",
      "149970599\n",
      "234338417\n",
      "238829802\n",
      "281543210\n",
      "335588842\n",
      "842068824\n",
      "97487520\n",
      "159636125\n",
      "202467266\n",
      "230197530\n",
      "284266496\n",
      "233197293\n",
      "118398402\n",
      "177309966\n",
      "183076970\n",
      "183306276\n",
      "201601338\n",
      "238200877\n",
      "270247428\n",
      "271999852\n",
      "276738707\n",
      "276783657\n",
      "279322995\n",
      "291374558\n",
      "300153494\n",
      "311103813\n",
      "311250324\n",
      "31868634\n",
      "319865847\n",
      "320356995\n",
      "326693475\n",
      "341119264\n",
      "363404187\n",
      "373919592\n",
      "379191982\n",
      "384740598\n",
      "38570890\n",
      "404851508\n",
      "404851552\n",
      "404851966\n",
      "40602499\n",
      "406091286\n",
      "406943526\n",
      "407615704\n",
      "410087746\n",
      "41256189\n",
      "419611478\n",
      "62807165\n",
      "283330382\n",
      "14209654\n",
      "185607431\n",
      "188258751\n",
      "202685576\n"
     ]
    }
   ],
   "source": [
    "for i in pl[neg & ppos][[]].join(tce_table, on='tic_id', how='left').index:\n",
    "    print(i)"
   ]
  },
  {
   "cell_type": "code",
   "execution_count": 17,
   "metadata": {
    "scrolled": true
   },
   "outputs": [
    {
     "data": {
      "text/html": [
       "<div>\n",
       "<style scoped>\n",
       "    .dataframe tbody tr th:only-of-type {\n",
       "        vertical-align: middle;\n",
       "    }\n",
       "\n",
       "    .dataframe tbody tr th {\n",
       "        vertical-align: top;\n",
       "    }\n",
       "\n",
       "    .dataframe thead th {\n",
       "        text-align: right;\n",
       "    }\n",
       "</style>\n",
       "<table border=\"1\" class=\"dataframe\">\n",
       "  <thead>\n",
       "    <tr style=\"text-align: right;\">\n",
       "      <th></th>\n",
       "      <th>disp_e</th>\n",
       "      <th>disp_n</th>\n",
       "      <th>disp_j</th>\n",
       "      <th>disp_s</th>\n",
       "      <th>disp_b</th>\n",
       "    </tr>\n",
       "    <tr>\n",
       "      <th>tic_id</th>\n",
       "      <th></th>\n",
       "      <th></th>\n",
       "      <th></th>\n",
       "      <th></th>\n",
       "      <th></th>\n",
       "    </tr>\n",
       "  </thead>\n",
       "  <tbody>\n",
       "    <tr>\n",
       "      <th>416282321</th>\n",
       "      <td>0.026397</td>\n",
       "      <td>0.240785</td>\n",
       "      <td>0.943141</td>\n",
       "      <td>0.001914</td>\n",
       "      <td>0.102822</td>\n",
       "    </tr>\n",
       "    <tr>\n",
       "      <th>416282321</th>\n",
       "      <td>0.035916</td>\n",
       "      <td>0.263594</td>\n",
       "      <td>0.928273</td>\n",
       "      <td>0.007327</td>\n",
       "      <td>0.081290</td>\n",
       "    </tr>\n",
       "    <tr>\n",
       "      <th>416282321</th>\n",
       "      <td>0.058070</td>\n",
       "      <td>0.231491</td>\n",
       "      <td>0.896986</td>\n",
       "      <td>0.006937</td>\n",
       "      <td>0.069274</td>\n",
       "    </tr>\n",
       "    <tr>\n",
       "      <th>416282321</th>\n",
       "      <td>0.141564</td>\n",
       "      <td>0.190726</td>\n",
       "      <td>0.775667</td>\n",
       "      <td>0.014300</td>\n",
       "      <td>0.047534</td>\n",
       "    </tr>\n",
       "    <tr>\n",
       "      <th>416282321</th>\n",
       "      <td>0.263612</td>\n",
       "      <td>0.261743</td>\n",
       "      <td>0.644725</td>\n",
       "      <td>0.004002</td>\n",
       "      <td>0.063144</td>\n",
       "    </tr>\n",
       "    <tr>\n",
       "      <th>416282321</th>\n",
       "      <td>0.468319</td>\n",
       "      <td>0.149335</td>\n",
       "      <td>0.450322</td>\n",
       "      <td>0.003772</td>\n",
       "      <td>0.044334</td>\n",
       "    </tr>\n",
       "    <tr>\n",
       "      <th>416282321</th>\n",
       "      <td>0.067633</td>\n",
       "      <td>0.269859</td>\n",
       "      <td>0.869229</td>\n",
       "      <td>0.007350</td>\n",
       "      <td>0.114812</td>\n",
       "    </tr>\n",
       "    <tr>\n",
       "      <th>416282321</th>\n",
       "      <td>0.107288</td>\n",
       "      <td>0.166508</td>\n",
       "      <td>0.857825</td>\n",
       "      <td>0.010444</td>\n",
       "      <td>0.044141</td>\n",
       "    </tr>\n",
       "    <tr>\n",
       "      <th>416282321</th>\n",
       "      <td>0.159450</td>\n",
       "      <td>0.260563</td>\n",
       "      <td>0.693712</td>\n",
       "      <td>0.006287</td>\n",
       "      <td>0.051726</td>\n",
       "    </tr>\n",
       "    <tr>\n",
       "      <th>416282321</th>\n",
       "      <td>0.047500</td>\n",
       "      <td>0.232950</td>\n",
       "      <td>0.874118</td>\n",
       "      <td>0.011473</td>\n",
       "      <td>0.136519</td>\n",
       "    </tr>\n",
       "  </tbody>\n",
       "</table>\n",
       "</div>"
      ],
      "text/plain": [
       "             disp_e    disp_n    disp_j    disp_s    disp_b\n",
       "tic_id                                                     \n",
       "416282321  0.026397  0.240785  0.943141  0.001914  0.102822\n",
       "416282321  0.035916  0.263594  0.928273  0.007327  0.081290\n",
       "416282321  0.058070  0.231491  0.896986  0.006937  0.069274\n",
       "416282321  0.141564  0.190726  0.775667  0.014300  0.047534\n",
       "416282321  0.263612  0.261743  0.644725  0.004002  0.063144\n",
       "416282321  0.468319  0.149335  0.450322  0.003772  0.044334\n",
       "416282321  0.067633  0.269859  0.869229  0.007350  0.114812\n",
       "416282321  0.107288  0.166508  0.857825  0.010444  0.044141\n",
       "416282321  0.159450  0.260563  0.693712  0.006287  0.051726\n",
       "416282321  0.047500  0.232950  0.874118  0.011473  0.136519"
      ]
     },
     "execution_count": 17,
     "metadata": {},
     "output_type": "execute_result"
    }
   ],
   "source": [
    "def compare(ensemble_preds, filter):\n",
    "    result = ensemble_preds[0][filter]\n",
    "    for preds in ensemble_preds[1:]:\n",
    "        result = result.append(preds[filter])\n",
    "    return result\n",
    "\n",
    "compare(ensemble_preds, preds.index == 416282321)"
   ]
  },
  {
   "cell_type": "code",
   "execution_count": 11,
   "metadata": {},
   "outputs": [
    {
     "data": {
      "text/html": [
       "<div>\n",
       "<style scoped>\n",
       "    .dataframe tbody tr th:only-of-type {\n",
       "        vertical-align: middle;\n",
       "    }\n",
       "\n",
       "    .dataframe tbody tr th {\n",
       "        vertical-align: top;\n",
       "    }\n",
       "\n",
       "    .dataframe thead th {\n",
       "        text-align: right;\n",
       "    }\n",
       "</style>\n",
       "<table border=\"1\" class=\"dataframe\">\n",
       "  <thead>\n",
       "    <tr style=\"text-align: right;\">\n",
       "      <th></th>\n",
       "      <th>disp_e_p</th>\n",
       "      <th>disp_n_p</th>\n",
       "      <th>disp_j_p</th>\n",
       "      <th>disp_s_p</th>\n",
       "      <th>disp_b_p</th>\n",
       "      <th>maxcount</th>\n",
       "      <th>disp_e</th>\n",
       "      <th>disp_n</th>\n",
       "      <th>disp_j</th>\n",
       "      <th>disp_s</th>\n",
       "      <th>disp_b</th>\n",
       "    </tr>\n",
       "    <tr>\n",
       "      <th>tic_id</th>\n",
       "      <th></th>\n",
       "      <th></th>\n",
       "      <th></th>\n",
       "      <th></th>\n",
       "      <th></th>\n",
       "      <th></th>\n",
       "      <th></th>\n",
       "      <th></th>\n",
       "      <th></th>\n",
       "      <th></th>\n",
       "      <th></th>\n",
       "    </tr>\n",
       "  </thead>\n",
       "  <tbody>\n",
       "  </tbody>\n",
       "</table>\n",
       "</div>"
      ],
      "text/plain": [
       "Empty DataFrame\n",
       "Columns: [disp_e_p, disp_n_p, disp_j_p, disp_s_p, disp_b_p, maxcount, disp_e, disp_n, disp_j, disp_s, disp_b]\n",
       "Index: []"
      ]
     },
     "execution_count": 11,
     "metadata": {},
     "output_type": "execute_result"
    }
   ],
   "source": [
    "pl[pl.index == 340066802]"
   ]
  },
  {
   "cell_type": "markdown",
   "metadata": {},
   "source": [
    "### PR curve"
   ]
  },
  {
   "cell_type": "code",
   "execution_count": 12,
   "metadata": {},
   "outputs": [],
   "source": [
    "tics = set(ensemble_preds[0].index.values)\n",
    "\n",
    "tic_index = {v: i for i, v in enumerate(tics)}\n",
    "\n",
    "pred_es = np.zeros([len(ensemble_preds), len(tic_index)])\n",
    "for i, preds in enumerate(ensemble_preds):\n",
    "    for row in preds.iterrows():\n",
    "        tic, pred_e = row[0], row[1][col_e]\n",
    "        pred_es[i][tic_index[tic]] = pred_e\n",
    "\n",
    "lbl_es = np.zeros([len(tic_index)], dtype=np.bool)\n",
    "for row in tce_labels.iterrows():\n",
    "    tic, lbl_e = row[0], row[1]['disp_e']\n",
    "    if tic in tic_index:\n",
    "        lbl_es[tic_index[tic]] = (lbl_e > 0)"
   ]
  },
  {
   "cell_type": "code",
   "execution_count": 13,
   "metadata": {},
   "outputs": [],
   "source": [
    "num_cond_pos = int(np.sum(lbl_es))\n",
    "\n",
    "def pr_at_th(th):\n",
    "    pred_pos = np.any(pred_es >= th, axis=0)\n",
    "    true_pos = pred_pos & lbl_es\n",
    "    num_pred_pos = int(np.sum(pred_pos))\n",
    "    num_true_pos = int(np.sum(true_pos))\n",
    "    if num_pred_pos == 0:\n",
    "        return 1.0, 0.0\n",
    "    return float(num_true_pos) / float(num_pred_pos), float(num_true_pos) / float(num_cond_pos)"
   ]
  },
  {
   "cell_type": "code",
   "execution_count": 14,
   "metadata": {},
   "outputs": [
    {
     "name": "stdout",
     "output_type": "stream",
     "text": [
      "AUC: 0.9721019601616727, max R: 1.0, max P: 1.0\n",
      "100% recall at: 24%, threshold: 0.0025000000000546265\n"
     ]
    },
    {
     "data": {
      "image/png": "[encoded data removed]",
      "text/plain": [
       "<Figure size 1200x740 with 1 Axes>"
      ]
     },
     "metadata": {
      "needs_background": "light"
     },
     "output_type": "display_data"
    }
   ],
   "source": [
    "from matplotlib import pyplot as plt\n",
    "\n",
    "ps, rs, ths = ([], [], [])\n",
    "th = np.max(pred_es)\n",
    "while th >= 0.0:\n",
    "    p, r = pr_at_th(th)\n",
    "    ps.append(p)\n",
    "    rs.append(r)\n",
    "    ths.append(th)\n",
    "    th -= 0.0005\n",
    "    \n",
    "from sklearn import metrics\n",
    "\n",
    "print(f'AUC: {metrics.auc(rs, ps)}, max R: {max(rs)}, max P: {max(ps)}')\n",
    "    \n",
    "i = len(rs) - 1\n",
    "while rs[i] == 1.0:\n",
    "    i -= 1\n",
    "i += 1\n",
    "print(f'100% recall at: {int(ps[i] * 100)}%, threshold: {ths[i]}')\n",
    "\n",
    "fig, ax = plt.subplots(figsize=(6, 3.7), dpi=200)\n",
    "\n",
    "ax.spines['top'].set_color('#808080')\n",
    "ax.spines['right'].set_color('#808080')\n",
    "ax.spines['left'].set_color('#808080')\n",
    "ax.spines['bottom'].set_color('#808080')\n",
    "ax.tick_params(direction='in', color='#808080')\n",
    "\n",
    "plt.grid(color='#c0c0c0', linestyle='--', linewidth=0.5)\n",
    "\n",
    "plt.ylabel('Precision', fontweight='bold')\n",
    "plt.xlabel('Recall', fontweight='bold')\n",
    "\n",
    "plt.xlim((0.0, 1.0))\n",
    "plt.ylim((0.0, 1.0))\n",
    "\n",
    "_ = plt.plot(rs, ps)"
   ]
  }
 ],
 "metadata": {
  "kernelspec": {
   "display_name": "Python 3",
   "language": "python",
   "name": "python3"
  },
  "language_info": {
   "codemirror_mode": {
    "name": "ipython",
    "version": 3
   },
   "file_extension": ".py",
   "mimetype": "text/x-python",
   "name": "python",
   "nbconvert_exporter": "python",
   "pygments_lexer": "ipython3",
   "version": "3.7.6"
  }
 },
 "nbformat": 4,
 "nbformat_minor": 4
}
