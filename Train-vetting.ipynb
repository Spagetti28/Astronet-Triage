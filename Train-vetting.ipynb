{
 "cells": [
  {
   "cell_type": "code",
   "execution_count": null,
   "metadata": {
    "scrolled": false
   },
   "outputs": [],
   "source": [
    "from astronet import models\n",
    "from astronet import train\n",
    "\n",
    "\n",
    "def run_training(ensemble_no=1):\n",
    "    train.FLAGS = train.parser.parse_args([\n",
    "      '--model', 'AstroCNNModelVetting',\n",
    "      '--config_name', 'vrevised',\n",
    "      '--train_files', '/mnt/tess/astronet/tfrecords-vetting-3-train/*',\n",
    "      '--eval_files', '/mnt/tess/astronet/tfrecords-vetting-3-val/*',\n",
    "      '--pretrain_model_dir', '/mnt/tess/astronet/checkpoints/revised_tuned_27_run_1/1',\n",
    "      '--model_dir', '',\n",
    "      '--train_epochs', '5',\n",
    "      '--train_steps', '0'\n",
    "    ])\n",
    "    \n",
    "    train.main(None)\n",
    "\n",
    "run_training()"
   ]
  }
 ],
 "metadata": {
  "kernelspec": {
   "display_name": "Python 3",
   "language": "python",
   "name": "python3"
  },
  "language_info": {
   "codemirror_mode": {
    "name": "ipython",
    "version": 3
   },
   "file_extension": ".py",
   "mimetype": "text/x-python",
   "name": "python",
   "nbconvert_exporter": "python",
   "pygments_lexer": "ipython3",
   "version": "3.7.6"
  }
 },
 "nbformat": 4,
 "nbformat_minor": 4
}
