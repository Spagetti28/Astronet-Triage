{
 "cells": [
  {
   "cell_type": "code",
   "execution_count": null,
   "metadata": {
    "scrolled": false
   },
   "outputs": [],
   "source": [
    "from astronet import models\n",
    "from astronet import train\n",
    "\n",
    "model_name = 'AstroCNNModel'\n",
    "config_name = 'local_global_new_tuned'\n",
    "\n",
    "def run_training(ensemble_no=1):\n",
    "    train.FLAGS = train.parser.parse_args([\n",
    "      '--model', model_name,\n",
    "      '--config_name', config_name,\n",
    "      '--train_files', '/mnt/tess/astronet/tfrecords-14-train/*',\n",
    "      '--eval_files', '/mnt/tess/astronet/tfrecords-14-val/*',\n",
    "      '--model_dir', None,\n",
    "      '--train_epochs', '3',\n",
    "      '--train_steps', '100'\n",
    "    ])\n",
    "\n",
    "    config = models.get_model_config(model_name, config_name)\n",
    "\n",
    "    model_class = models.get_model_class(model_name)\n",
    "    model = model_class(config)\n",
    "\n",
    "    train.train(model, config)\n",
    "    \n",
    "run_training()"
   ]
  }
 ],
 "metadata": {
  "kernelspec": {
   "display_name": "Python 3",
   "language": "python",
   "name": "python3"
  },
  "language_info": {
   "codemirror_mode": {
    "name": "ipython",
    "version": 3
   },
   "file_extension": ".py",
   "mimetype": "text/x-python",
   "name": "python",
   "nbconvert_exporter": "python",
   "pygments_lexer": "ipython3",
   "version": "3.7.6"
  }
 },
 "nbformat": 4,
 "nbformat_minor": 4
}
