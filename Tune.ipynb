{
 "cells": [
  {
   "cell_type": "markdown",
   "metadata": {},
   "source": [
    "To run this notebook, load it in a local Jupyter instance (`pip install jupyter`). You'll also need these dependencies:\n",
    "\n",
    "```\n",
    "pip install tf-nightly\n",
    "pip install google-cloud-storage\n",
    "pip install requests\n",
    "pip install google-api-python-client\n",
    "```\n",
    "\n",
    "You may also need to run this if you're not inside a google cloud VM:\n",
    "\n",
    "```\n",
    "gcloud auth application-default login\n",
    "```"
   ]
  },
  {
   "cell_type": "markdown",
   "metadata": {},
   "source": [
    "You need to configure [OAuth](https://support.google.com/cloud/answer/6158849?hl=en). It's a complicated process, best described [here](https://github.com/googleapis/google-api-python-client/blob/master/docs/client-secrets.md). In the end you donwload the `client_secrets.json` file and use it below."
   ]
  },
  {
   "cell_type": "code",
   "execution_count": null,
   "metadata": {},
   "outputs": [],
   "source": [
    "import argparse\n",
    "from astronet import tune\n",
    "\n",
    "config_name = 'local_global_new'\n",
    "\n",
    "tune.FLAGS = tune.parser.parse_args([\n",
    "  '--client_secrets', '../client_secrets.json',\n",
    "  '--model', 'AstroCnnModel',\n",
    "  '--config_name', config_name,\n",
    "  '--train_files', '',\n",
    "])\n",
    "\n",
    "client = tune.initialize_client()"
   ]
  },
  {
   "cell_type": "code",
   "execution_count": null,
   "metadata": {},
   "outputs": [],
   "source": [
    "import pandas as pd\n",
    "\n",
    "pd.set_option('max_colwidth', 100)\n",
    "\n",
    "resp = client.projects().locations().studies().list(\n",
    "  parent=tune.study_parent()).execute()\n",
    "studies = pd.DataFrame(resp['studies'])\n",
    "studies = studies.sort_values('createTime', ascending=False)\n",
    "studies.head(5)"
   ]
  },
  {
   "cell_type": "code",
   "execution_count": null,
   "metadata": {},
   "outputs": [],
   "source": [
    "study = studies['name'][14]\n",
    "study_id = '{}/studies/{}'.format(tune.study_parent(), study.split('/')[-1])\n",
    "print(study_id)\n",
    "resp = client.projects().locations().studies().trials().list(\n",
    "  parent=study_id).execute()\n",
    "\n",
    "metrics_r = []\n",
    "metrics_p = []\n",
    "params = []\n",
    "trial_ids = []\n",
    "for trial in resp['trials']:\n",
    "  if 'finalMeasurement' not in trial:\n",
    "    continue\n",
    "\n",
    "  r, = (m['value'] for m in trial['finalMeasurement']['metrics'] if m['metric'] == 'r')  \n",
    "  p, = (m['value'] for m in trial['finalMeasurement']['metrics'] if m['metric'] == 'p')\n",
    "  \n",
    "  if r < 0.05:\n",
    "    continue\n",
    "    \n",
    "  params.append(trial['parameters'])\n",
    "  metrics_r.append(r)\n",
    "  metrics_p.append(p)\n",
    "  trial_ids.append(int(trial['name'].split('/')[-1]))\n",
    "  \n",
    "print(max(trial_ids), 'valid studies')"
   ]
  },
  {
   "cell_type": "code",
   "execution_count": null,
   "metadata": {},
   "outputs": [],
   "source": [
    "import matplotlib\n",
    "from matplotlib import pyplot as plt\n",
    "\n",
    "matplotlib.rcParams.update({'font.size': 16})\n",
    "\n",
    "fig, ax = plt.subplots()\n",
    "ax.scatter(metrics_r, metrics_p)\n",
    "plt.xlabel(\"recall\")\n",
    "plt.ylabel(\"precision\")\n",
    "sorted_metrics = sorted(zip(metrics_r, metrics_p))\n",
    "\n",
    "for i, trial_id in enumerate(trial_ids):\n",
    "  if ((metrics_r[i], metrics_p[i]) >= sorted_metrics[-5]):\n",
    "    ax.annotate(' {}'.format(i), (metrics_r[i], metrics_p[i]))\n",
    "\n",
    "plt.gcf().set_size_inches((16, 16))"
   ]
  },
  {
   "cell_type": "code",
   "execution_count": null,
   "metadata": {},
   "outputs": [],
   "source": [
    "best = 786\n",
    "print(trial_ids[best])"
   ]
  },
  {
   "cell_type": "code",
   "execution_count": null,
   "metadata": {},
   "outputs": [],
   "source": [
    "import pprint\n",
    "from astronet import models\n",
    "\n",
    "config = models.get_model_config('AstroCNNModel', config_name)\n",
    "\n",
    "for param in params[best]:\n",
    "  tune.map_param(config['hparams'], param)\n",
    "  \n",
    "pprint.pprint(config['hparams'])"
   ]
  },
  {
   "cell_type": "code",
   "execution_count": null,
   "metadata": {},
   "outputs": [],
   "source": [
    "import difflib\n",
    "import pprint\n",
    "from astronet import models\n",
    "\n",
    "config1 = models.get_model_config('AstroCNNModel', config_name)\n",
    "\n",
    "config2 = models.get_model_config('AstroCNNModel', config_name)\n",
    "for param in params[best]:\n",
    "  tune.map_param(config2['hparams'], param)\n",
    "  \n",
    "pp = pprint.PrettyPrinter()\n",
    "print('\\n'.join(difflib.unified_diff(\n",
    "  pp.pformat(config1).split('\\n'), pp.pformat(config2).split('\\n'),\n",
    "  n=0\n",
    ")))"
   ]
  },
  {
   "cell_type": "markdown",
   "metadata": {},
   "source": [
    "```\n",
    "python astronet/tune.py --model=AstroCNNModel --config_name=local_global_new --train_files=astronet/tfrecords-new/test-0000[0-5]* --eval_files=astronet/tfrecords-new/test-0000[6-6]* --train_steps=7000 --tune_trials=1000\n",
    "```"
   ]
  }
 ],
 "metadata": {
  "kernelspec": {
   "display_name": "Python 3",
   "language": "python",
   "name": "python3"
  },
  "language_info": {
   "codemirror_mode": {
    "name": "ipython",
    "version": 3
   },
   "file_extension": ".py",
   "mimetype": "text/x-python",
   "name": "python",
   "nbconvert_exporter": "python",
   "pygments_lexer": "ipython3",
   "version": "3.7.6"
  }
 },
 "nbformat": 4,
 "nbformat_minor": 4
}
