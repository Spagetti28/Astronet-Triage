{
 "cells": [
  {
   "cell_type": "code",
   "execution_count": null,
   "metadata": {},
   "outputs": [],
   "source": [
    "from matplotlib import pyplot as plt\n",
    "\n",
    "tess_data_dir = f'/mnt/tess/lc'\n",
    "tces_file = '/mnt/tess/astronet/tces-new+old.csv'\n",
    "\n",
    "b = plt.get_cmap('tab20')(0)\n",
    "b2 = plt.get_cmap('tab20')(1)\n",
    "o = plt.get_cmap('tab20')(2)\n",
    "o2 = plt.get_cmap('tab20')(3)\n",
    "g = plt.get_cmap('tab20')(4)\n",
    "r = plt.get_cmap('tab20')(6)\n",
    "n = plt.get_cmap('tab20')(8)\n",
    "\n",
    "tic = 238875188"
   ]
  },
  {
   "cell_type": "code",
   "execution_count": null,
   "metadata": {},
   "outputs": [],
   "source": [
    "from astropy.io import fits\n",
    "from light_curve_util import tess_io\n",
    "\n",
    "file_names = tess_io.tess_filenames(tic, tess_data_dir)\n",
    "f = fits.open(file_names)\n",
    "\n",
    "td = f[1].data[\"TIME\"]\n",
    "fd = f[1].data[\"KSPSAP_FLUX\"]\n",
    "fs = f[1].data[\"SAP_FLUX\"]\n",
    "\n",
    "fig = plt.figure(figsize=(15, 8), dpi=300)\n",
    "plt.plot(td, fd, '-', markersize=3, c=b, label='KSPSAP')\n",
    "plt.plot(td, fs, 'o', markersize=3, c=g, label='SAP')\n",
    "plt.legend()\n",
    "_ = plt.title('fits data')"
   ]
  },
  {
   "cell_type": "code",
   "execution_count": null,
   "metadata": {},
   "outputs": [],
   "source": [
    "import pandas as pd\n",
    "\n",
    "\n",
    "tce_table = pd.read_csv(tces_file, header=0)\n",
    "tce_table.Duration = tce_table.Duration / 24.0\n",
    "\n",
    "tce_table = tce_table.drop(columns=['Disposition'])\n",
    "tce = tce_table[tce_table.tic_id == tic]\n",
    "period = tce.Period.values.item()\n",
    "epoc = tce.Epoc.values.item()\n",
    "duration = tce.Duration.values.item()"
   ]
  },
  {
   "cell_type": "code",
   "execution_count": null,
   "metadata": {},
   "outputs": [],
   "source": [
    "epoc, period, duration"
   ]
  },
  {
   "cell_type": "code",
   "execution_count": null,
   "metadata": {},
   "outputs": [],
   "source": [
    "import numpy as np\n",
    "from light_curve_util import util\n",
    "\n",
    "\n",
    "def get_spline_mask(time, period, t0, tdur):\n",
    "    phase = util.phase_fold_time(time, period, t0)\n",
    "    outtran = (np.abs(phase) > tdur)\n",
    "    return outtran\n",
    "\n",
    "def filter_outliers(time, flux):\n",
    "  valid = ~np.isnan(flux)\n",
    "  time, flux = time[valid], flux[valid]\n",
    "  inliers =  flux < (flux.mean() + 7 * flux.std())\n",
    "  return time[inliers], flux[inliers]\n"
   ]
  },
  {
   "cell_type": "code",
   "execution_count": null,
   "metadata": {},
   "outputs": [],
   "source": [
    "from matplotlib import pyplot as plt\n",
    "from astronet.data import preprocess\n",
    "from light_curve_util import keplersplinev2\n",
    "\n",
    "t, f = preprocess.read_and_process_light_curve(tic, tess_data_dir, 'KSPSAP_FLUX')\n",
    "ut, uf = preprocess.read_and_process_light_curve(tic, tess_data_dir, 'SAP_FLUX')\n",
    "input_mask = get_spline_mask(ut, period, epoc, duration)\n",
    "sf = keplersplinev2.choosekeplersplinev2(ut, uf, input_mask=input_mask)\n",
    "\n",
    "fig = plt.figure(figsize=(18, 6), dpi=300)\n",
    "plt.plot(t, f, '-', markersize=3, color=b, label='KSPSAP')\n",
    "plt.plot(ut, uf, '-', markersize=3, alpha=0.6, color=g, label='SAP')\n",
    "plt.plot(ut, sf, 'o', markersize=3, color=o, label='spline')\n",
    "mask_plot = np.where(input_mask, 1.0, min(np.min(f), np.min(sf), np.min(uf)))\n",
    "plt.plot(ut, mask_plot, '.', alpha=0.3, color=r, label='OOT')\n",
    "plt.legend()\n",
    "# plt.ylim([0.995, 1.005])\n",
    "_ = plt.title('raw')"
   ]
  },
  {
   "cell_type": "code",
   "execution_count": null,
   "metadata": {},
   "outputs": [],
   "source": [
    "ft, ff = preprocess.phase_fold_and_sort_light_curve(t, f, period, epoc)\n",
    "fmt, fm = preprocess.phase_fold_and_sort_light_curve(t, input_mask, period, epoc)\n",
    "\n",
    "ut, nf = preprocess.detrend_and_filter(tic, ut, uf, period, epoc, duration)\n",
    "sft, sff = preprocess.phase_fold_and_sort_light_curve(ut, nf, period, epoc)\n",
    "\n",
    "fig = plt.figure(figsize=(18, 6), dpi=300)\n",
    "plt.plot(ft, ff, '-', markersize=3, c=b, label='original')\n",
    "plt.plot(sft, sff, '-o', markersize=3, alpha=0.6, c=o, label='spline')\n",
    "sff_filtered = np.where((sff > 1.5) | (sff < -0.5), 0, sff)\n",
    "if sff_filtered:\n",
    "    mask = np.where(fm, 1, min(sff_filtered))\n",
    "    plt.plot(fmt, mask, 'o', markersize=3, alpha=0.6, c=r, label='OOT')\n",
    "else:\n",
    "    print('Filtering removed all data!')\n",
    "plt.legend()\n",
    "# plt.xlim([-1, 1])\n",
    "# plt.ylim([0.995, 1.005])\n",
    "_ = plt.title('phase folded / filtered')"
   ]
  },
  {
   "cell_type": "code",
   "execution_count": null,
   "metadata": {},
   "outputs": [],
   "source": [
    "gv = preprocess.global_view(tic, ft, ff, period)\n",
    "sgv = preprocess.global_view(tic, sft, sff, period)\n",
    "\n",
    "fig = plt.figure(figsize=(18, 6), dpi=300)\n",
    "plt.plot(gv, '-', markersize=3, color=b, label='original')\n",
    "plt.plot(sgv, 'o-', markersize=3, color=o, label='spline')\n",
    "plt.legend()\n",
    "_ = plt.title('global view')"
   ]
  },
  {
   "cell_type": "code",
   "execution_count": null,
   "metadata": {},
   "outputs": [],
   "source": [
    "fig = plt.figure(figsize=(18, 6), dpi=300)\n",
    "\n",
    "lv = preprocess.local_view(tic, ft, ff, period, duration, new_binning=False)\n",
    "lvs = preprocess.local_view(tic, sft, sff, period, duration, new_binning=False)\n",
    "plt.plot(lv, '-', markersize=3, c=b, label='original median')\n",
    "plt.plot(lvs, 'o-', markersize=3, c=o, label='spline median')\n",
    "\n",
    "lv = preprocess.local_view(tic, ft, ff, period, duration, new_binning=True)\n",
    "lvs = preprocess.local_view(tic, sft, sff, period, duration, new_binning=True)\n",
    "plt.plot(lv, '-', markersize=3, c=b2, label='original robust')\n",
    "plt.plot(lvs, 'o-', markersize=3, c=o2, label='spline robust')\n",
    "\n",
    "plt.legend()\n",
    "_ = plt.title('local view')"
   ]
  },
  {
   "cell_type": "code",
   "execution_count": null,
   "metadata": {},
   "outputs": [],
   "source": [
    "lv = preprocess.secondary_view(tic, ft, ff, period, duration)\n",
    "lvs = preprocess.secondary_view(tic, sft, sff, period, duration)\n",
    "\n",
    "fig = plt.figure(figsize=(18, 6), dpi=300)\n",
    "plt.plot(lv, '-', markersize=3, color=b, label='original robust')\n",
    "plt.plot(lvs, 'o-', markersize=3, color=o, label='spline robust')\n",
    "plt.legend()\n",
    "_ = plt.title('secondary view')"
   ]
  },
  {
   "cell_type": "code",
   "execution_count": null,
   "metadata": {},
   "outputs": [],
   "source": [
    "from astronet.data import generate_input_records\n",
    "\n",
    "\n",
    "generate_input_records.FLAGS = generate_input_records.parser.parse_args([\n",
    "  '--tess_data_dir', '/mnt/tess/lc',\n",
    "  '--output_dir', '/dev/null',\n",
    "  '--input_tce_csv_file', tces_file,\n",
    "])\n",
    "\n",
    "\n",
    "row = list(tce.iterrows())[0][1]\n",
    "\n",
    "try:\n",
    "    ex = generate_input_records._process_tce(row)\n",
    "except:\n",
    "    print('Using old detrending')\n",
    "    ex = generate_input_records._process_tce(row, True)\n",
    "    \n",
    "\n",
    "fig = plt.figure(figsize=(18, 6), dpi=300)\n",
    "plt.plot(ex.features.feature['global_view'].float_list.value, color=n)\n",
    "plt.title('process_tce global')\n",
    "fig = plt.figure(figsize=(18, 6), dpi=300)\n",
    "plt.plot(ex.features.feature['local_view'].float_list.value, color=n)\n",
    "plt.title('process_tce local')\n",
    "fig = plt.figure(figsize=(18, 6), dpi=300)\n",
    "plt.plot(ex.features.feature['secondary_view'].float_list.value, color=n)\n",
    "_ = plt.title('process_tce secondary')"
   ]
  }
 ],
 "metadata": {
  "kernelspec": {
   "display_name": "Python 3",
   "language": "python",
   "name": "python3"
  },
  "language_info": {
   "codemirror_mode": {
    "name": "ipython",
    "version": 3
   },
   "file_extension": ".py",
   "mimetype": "text/x-python",
   "name": "python",
   "nbconvert_exporter": "python",
   "pygments_lexer": "ipython3",
   "version": "3.7.6"
  }
 },
 "nbformat": 4,
 "nbformat_minor": 4
}
